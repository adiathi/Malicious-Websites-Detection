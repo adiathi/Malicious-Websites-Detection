{
 "cells": [
  {
   "cell_type": "code",
   "execution_count": 6,
   "id": "f5e7327f",
   "metadata": {},
   "outputs": [],
   "source": [
    "import pickle\n",
    "import joblib\n",
    "\n",
    "# Load the label encoder object from the pickle file\n",
    "with open('CharsetEncoder.pkl', 'rb') as f:\n",
    "    CharsetEncoder = pickle.load(f)\n",
    "\n",
    "with open('ServerEncoder.pkl', 'rb') as f:\n",
    "    ServerEncoder = pickle.load(f)\n",
    "    \n",
    "model = joblib.load('MaliciousWebsiteDetectorModel.pkl')"
   ]
  },
  {
   "cell_type": "code",
   "execution_count": 14,
   "id": "0e05c5df",
   "metadata": {},
   "outputs": [
    {
     "name": "stdout",
     "output_type": "stream",
     "text": [
      "Number of days from 1997-10-07 04:00:00 till today: 9330 days\n"
     ]
    }
   ],
   "source": [
    "from datetime import datetime, timedelta\n",
    "\n",
    "start_date_input = '7/10/1997 4:00'\n",
    "start_date = datetime.strptime(start_date_input, \"%d/%m/%Y %H:%M\")\n",
    "\n",
    "def calculate_days_difference(start_date):\n",
    "    try:      \n",
    "        # Get the current date\n",
    "        current_date = datetime.now()\n",
    "\n",
    "        # Calculate the difference between current date and start date\n",
    "        days_difference = (current_date - start_date).days\n",
    "\n",
    "        print(\"Number of days from\", start_date, \"till today:\", days_difference, \"days\")\n",
    "    except ValueError:\n",
    "        print(\"Invalid date format. Please enter date in dd/mm/yyyy HH:MM format.\")\n",
    "\n",
    "# Call the function\n",
    "calculate_days_difference(start_date)\n"
   ]
  },
  {
   "cell_type": "code",
   "execution_count": 28,
   "id": "d492fe86",
   "metadata": {},
   "outputs": [],
   "source": [
    "#encoded_value = label_encoder1.transform([value_to_encode])\n",
    "\n",
    "NUMBER_SPECIAL_CHARACTERS=7\n",
    "CHARSET='ASCII'\n",
    "SERVER='Microsoft'\n",
    "WHOIS_REGDATE=3508\n",
    "\n"
   ]
  },
  {
   "cell_type": "code",
   "execution_count": 29,
   "id": "96479423",
   "metadata": {},
   "outputs": [],
   "source": [
    "import pandas as pd\n",
    "Charset_encoded_value = CharsetEncoder.transform([CHARSET])\n",
    "server_encoded_value = ServerEncoder.transform([SERVER])\n",
    "\n",
    "data = {\n",
    "    \"NUMBER_SPECIAL_CHARACTERS\": [NUMBER_SPECIAL_CHARACTERS],\n",
    "    \"CHARSET_TYPE\": [Charset_encoded_value],\n",
    "    \"SERVER_TYPE\": [server_encoded_value],\n",
    "    \"SITE_AGE\": [WHOIS_REGDATE]\n",
    "}\n",
    "\n",
    "df = pd.DataFrame(data)"
   ]
  },
  {
   "cell_type": "code",
   "execution_count": 30,
   "id": "5745bdee",
   "metadata": {},
   "outputs": [],
   "source": [
    "import numpy as np"
   ]
  },
  {
   "cell_type": "code",
   "execution_count": 31,
   "id": "d1d1d17c",
   "metadata": {},
   "outputs": [
    {
     "name": "stdout",
     "output_type": "stream",
     "text": [
      "[1]\n"
     ]
    }
   ],
   "source": [
    "print(server_encoded_value)"
   ]
  },
  {
   "cell_type": "code",
   "execution_count": null,
   "id": "6999372a",
   "metadata": {},
   "outputs": [],
   "source": []
  },
  {
   "cell_type": "code",
   "execution_count": 33,
   "id": "f94e6ea9",
   "metadata": {},
   "outputs": [
    {
     "name": "stdout",
     "output_type": "stream",
     "text": [
      "1\n"
     ]
    }
   ],
   "source": [
    "prediction = model.predict(df)\n",
    "\n",
    "\n",
    "print(prediction[0])"
   ]
  },
  {
   "cell_type": "code",
   "execution_count": null,
   "id": "2afbf96c",
   "metadata": {},
   "outputs": [],
   "source": [
    "from flask import Flask, request, jsonify\n",
    "import pickle\n",
    "import joblib\n",
    "import numpy as np\n",
    "import pandas as pd\n",
    "from datetime import datetime, timedelta\n",
    "\n",
    "\n",
    "# Create an instance of Flask\n",
    "app = Flask(__name__)\n",
    "\n",
    "\n",
    "def calculate_days_difference(start_date):\n",
    "    try:      \n",
    "        # Get the current date\n",
    "        current_date = datetime.now()\n",
    "\n",
    "        # Calculate the difference between current date and start date\n",
    "        site_age = (current_date - start_date).days\n",
    "    except ValueError:\n",
    "        print(\"Invalid date format. Please enter date in dd/mm/yyyy HH:MM format.\")\n",
    "    return site_age\n",
    "\n",
    "\n",
    "\n",
    "# Load the label encoder object from the pickle file\n",
    "with open('CharsetEncoder.pkl', 'rb') as f:\n",
    "    CharsetEncoder = pickle.load(f)\n",
    "\n",
    "with open('ServerEncoder.pkl', 'rb') as f:\n",
    "    ServerEncoder = pickle.load(f)\n",
    "\n",
    "# Load the trained Random Forest Classifier model from pickle file\n",
    "rf_model = joblib.load('MaliciousWebsiteDetectorModel.pkl')\n",
    "\n",
    "\n",
    "@app.route('/predict', methods=['POST'])\n",
    "def predict():\n",
    "    # Get the request data\n",
    "    data = request.json\n",
    "\n",
    "    # Extract the features from the request data\n",
    "    number_special_characters = data['number_special_characters']\n",
    "    charset = data['charset']\n",
    "    server = data['server']\n",
    "    start_date = data['start_date']\n",
    "\n",
    "    # Encode the categorical variables\n",
    "    Charset_encoded_value = CharsetEncoder.transform([CHARSET])\n",
    "    server_encoded_value = ServerEncoder.transform([SERVER])\n",
    "    site_age= calculate_days_difference(start_date)\n",
    "\n",
    "\n",
    "    # Create a feature vector\n",
    "    data = {\n",
    "    \"NUMBER_SPECIAL_CHARACTERS\": [NUMBER_SPECIAL_CHARACTERS],\n",
    "    \"CHARSET_TYPE\": [Charset_encoded_value],\n",
    "    \"SERVER_TYPE\": [server_encoded_value],\n",
    "    \"SITE_AGE\": [site_age]\n",
    "    }\n",
    "    df = pd.DataFrame(data)\n",
    "    # Predict the target variable\n",
    "    prediction = rf_model.predict(df)[0]\n",
    "\n",
    "    # Create a response dictionary\n",
    "    response = {'prediction': prediction}\n",
    "\n",
    "    return jsonify(response)\n",
    "\n",
    "if __name__ == '__main__':\n",
    "    # Run the Flask app\n",
    "    app.run(debug=True)\n"
   ]
  }
 ],
 "metadata": {
  "kernelspec": {
   "display_name": "Python 3 (ipykernel)",
   "language": "python",
   "name": "python3"
  },
  "language_info": {
   "codemirror_mode": {
    "name": "ipython",
    "version": 3
   },
   "file_extension": ".py",
   "mimetype": "text/x-python",
   "name": "python",
   "nbconvert_exporter": "python",
   "pygments_lexer": "ipython3",
   "version": "3.9.7"
  }
 },
 "nbformat": 4,
 "nbformat_minor": 5
}
